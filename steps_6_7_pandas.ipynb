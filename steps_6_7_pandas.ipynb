{
 "cells": [
  {
   "cell_type": "markdown",
   "id": "afac314e-7e64-49e4-a04a-02c994a02ff4",
   "metadata": {},
   "source": [
    "**Unit 4 Deliverable 1**\n",
    "# Big Data Wrangling with Google nGrams (Steps 6 - 7)\n",
    "**Author:** Raghad Ibrahim  \n",
    "**Date:** April 30, 2024  "
   ]
  },
  {
   "cell_type": "markdown",
   "id": "1fab1bb0-a921-4d06-ac79-46d3c675e727",
   "metadata": {},
   "source": [
    "> ## Table of Contents:\n",
    ">> [Import Libraries](#1)\n",
    ">>\n",
    ">> [Read Data from an S3 Bucket](#2)\n",
    ">>\n",
    ">> [Data Wrangling](#3)\n",
    ">>\n",
    ">> [Plot](#4)\n",
    "\n",
    "<hr>"
   ]
  },
  {
   "cell_type": "markdown",
   "id": "0ac2bf63-15a4-4a94-99b7-7fc7dc0127aa",
   "metadata": {},
   "source": [
    "Before working on this notebook we have already authenticated using AWS security key and access id on our git bash command prompt.\n",
    "\n",
    "Firstly, activated the conda cloud_lab.\n",
    "\n",
    "Secondly, typed aws configure and authenticated by providing access key and secutity key which we gathered from the security credentials page of our AWS account."
   ]
  },
  {
   "cell_type": "markdown",
   "id": "0dc87c21-8d83-4588-88f0-c2c7d11e0db9",
   "metadata": {},
   "source": [
    "### Import Libraries <a class=\"anchor\" id=\"1\"></a>"
   ]
  },
  {
   "cell_type": "markdown",
   "id": "bf944300-c048-41c8-9acb-89d33b603ee0",
   "metadata": {},
   "source": [
    "Let's import the `boto3` library and have chosen the cloud lab environment where we had already installed boto.\n",
    "\n",
    "Boto3 makes it easy to integrate Python application, library, or script with AWS services including Amazon S3, Amazon EC2, Amazon DynamoDB, and more. In this notebook, we will be accessing the csv file that we saved in our amazon s3 bucket.\n"
   ]
  },
  {
   "cell_type": "code",
   "execution_count": 10,
   "id": "04981363-75a6-4139-87e2-87893e06d541",
   "metadata": {},
   "outputs": [],
   "source": [
    "# importing necessary libraries\n",
    "\n",
    "import boto3\n",
    "import pandas as pd\n",
    "import matplotlib.pyplot as plt"
   ]
  },
  {
   "cell_type": "markdown",
   "id": "d2a5cad6-5ee9-48ce-884c-5f7deb4dfdd0",
   "metadata": {},
   "source": [
    "### Read Data from an S3 Bucket <a class=\"anchor\" id=\"2\"></a>"
   ]
  },
  {
   "cell_type": "markdown",
   "id": "47b82c31-737d-4eb3-bd52-98fb667c558b",
   "metadata": {},
   "source": [
    "We will be starting with instantiating a boto client."
   ]
  },
  {
   "cell_type": "code",
   "execution_count": 2,
   "id": "3b1ed625-7367-4722-a0fd-fa70119b0f56",
   "metadata": {},
   "outputs": [
    {
     "data": {
      "text/plain": [
       "<botocore.client.S3 at 0x1427b4950>"
      ]
     },
     "execution_count": 2,
     "metadata": {},
     "output_type": "execute_result"
    }
   ],
   "source": [
    "# Instantiate an S3 client\n",
    "s3_client = boto3.client('s3')\n",
    "\n",
    "# Check\n",
    "s3_client"
   ]
  },
  {
   "cell_type": "code",
   "execution_count": 3,
   "id": "ee5514e3-78ce-40d2-a3ce-5c0400444ebc",
   "metadata": {},
   "outputs": [
    {
     "data": {
      "text/plain": [
       "{'ResponseMetadata': {'RequestId': '1ZPXYMZBEVEY8EPF',\n",
       "  'HostId': 'WjNbLQ+y5SbnAzdJoa9JvE7s7JqQwyscQuI95agi+ZbtAw0NMsghP7OAU2aSvXV2x6nUefVo7KU=',\n",
       "  'HTTPStatusCode': 200,\n",
       "  'HTTPHeaders': {'x-amz-id-2': 'WjNbLQ+y5SbnAzdJoa9JvE7s7JqQwyscQuI95agi+ZbtAw0NMsghP7OAU2aSvXV2x6nUefVo7KU=',\n",
       "   'x-amz-request-id': '1ZPXYMZBEVEY8EPF',\n",
       "   'date': 'Tue, 30 Apr 2024 17:56:05 GMT',\n",
       "   'last-modified': 'Tue, 30 Apr 2024 12:00:18 GMT',\n",
       "   'etag': '\"fb3cf3d45b1fc32b939cbd13697dbe68\"',\n",
       "   'x-amz-server-side-encryption': 'AES256',\n",
       "   'accept-ranges': 'bytes',\n",
       "   'content-type': 'text/csv',\n",
       "   'server': 'AmazonS3',\n",
       "   'content-length': '7338'},\n",
       "  'RetryAttempts': 0},\n",
       " 'AcceptRanges': 'bytes',\n",
       " 'LastModified': datetime.datetime(2024, 4, 30, 12, 0, 18, tzinfo=tzutc()),\n",
       " 'ContentLength': 7338,\n",
       " 'ETag': '\"fb3cf3d45b1fc32b939cbd13697dbe68\"',\n",
       " 'ContentType': 'text/csv',\n",
       " 'ServerSideEncryption': 'AES256',\n",
       " 'Metadata': {},\n",
       " 'Body': <botocore.response.StreamingBody at 0x15e3241f0>}"
      ]
     },
     "execution_count": 3,
     "metadata": {},
     "output_type": "execute_result"
    }
   ],
   "source": [
    "# Get the specified file from the specified bucket and assign it to a variable\n",
    "s3_object = s3_client.get_object(Bucket='google-ngrams-del', Key='filtered_data.csv')\n",
    "\n",
    "# Check\n",
    "s3_object"
   ]
  },
  {
   "cell_type": "code",
   "execution_count": 4,
   "id": "f5727b61-73ce-413f-8b04-19e1f109dd08",
   "metadata": {},
   "outputs": [
    {
     "data": {
      "text/plain": [
       "botocore.response.StreamingBody"
      ]
     },
     "execution_count": 4,
     "metadata": {},
     "output_type": "execute_result"
    }
   ],
   "source": [
    "type(s3_object['Body'])"
   ]
  },
  {
   "cell_type": "markdown",
   "id": "f6b6b8a4-567d-4af4-8bdd-c8957d91862a",
   "metadata": {},
   "source": [
    "Now let's load the data into pandas and display the `DataFrame`."
   ]
  },
  {
   "cell_type": "code",
   "execution_count": 5,
   "id": "90699459-e3a7-46ae-bb26-4f10f3364a72",
   "metadata": {},
   "outputs": [
    {
     "data": {
      "text/html": [
       "<div>\n",
       "<style scoped>\n",
       "    .dataframe tbody tr th:only-of-type {\n",
       "        vertical-align: middle;\n",
       "    }\n",
       "\n",
       "    .dataframe tbody tr th {\n",
       "        vertical-align: top;\n",
       "    }\n",
       "\n",
       "    .dataframe thead th {\n",
       "        text-align: right;\n",
       "    }\n",
       "</style>\n",
       "<table border=\"1\" class=\"dataframe\">\n",
       "  <thead>\n",
       "    <tr style=\"text-align: right;\">\n",
       "      <th></th>\n",
       "      <th>token</th>\n",
       "      <th>year</th>\n",
       "      <th>frequency</th>\n",
       "      <th>pages</th>\n",
       "      <th>books</th>\n",
       "    </tr>\n",
       "  </thead>\n",
       "  <tbody>\n",
       "    <tr>\n",
       "      <th>0</th>\n",
       "      <td>data</td>\n",
       "      <td>1584</td>\n",
       "      <td>16</td>\n",
       "      <td>14</td>\n",
       "      <td>1</td>\n",
       "    </tr>\n",
       "    <tr>\n",
       "      <th>1</th>\n",
       "      <td>data</td>\n",
       "      <td>1614</td>\n",
       "      <td>3</td>\n",
       "      <td>2</td>\n",
       "      <td>1</td>\n",
       "    </tr>\n",
       "    <tr>\n",
       "      <th>2</th>\n",
       "      <td>data</td>\n",
       "      <td>1627</td>\n",
       "      <td>1</td>\n",
       "      <td>1</td>\n",
       "      <td>1</td>\n",
       "    </tr>\n",
       "    <tr>\n",
       "      <th>3</th>\n",
       "      <td>data</td>\n",
       "      <td>1631</td>\n",
       "      <td>22</td>\n",
       "      <td>18</td>\n",
       "      <td>1</td>\n",
       "    </tr>\n",
       "    <tr>\n",
       "      <th>4</th>\n",
       "      <td>data</td>\n",
       "      <td>1637</td>\n",
       "      <td>1</td>\n",
       "      <td>1</td>\n",
       "      <td>1</td>\n",
       "    </tr>\n",
       "    <tr>\n",
       "      <th>...</th>\n",
       "      <td>...</td>\n",
       "      <td>...</td>\n",
       "      <td>...</td>\n",
       "      <td>...</td>\n",
       "      <td>...</td>\n",
       "    </tr>\n",
       "    <tr>\n",
       "      <th>311</th>\n",
       "      <td>data</td>\n",
       "      <td>2004</td>\n",
       "      <td>201841</td>\n",
       "      <td>93539</td>\n",
       "      <td>3483</td>\n",
       "    </tr>\n",
       "    <tr>\n",
       "      <th>312</th>\n",
       "      <td>data</td>\n",
       "      <td>2005</td>\n",
       "      <td>197467</td>\n",
       "      <td>88901</td>\n",
       "      <td>3392</td>\n",
       "    </tr>\n",
       "    <tr>\n",
       "      <th>313</th>\n",
       "      <td>data</td>\n",
       "      <td>2006</td>\n",
       "      <td>203669</td>\n",
       "      <td>92960</td>\n",
       "      <td>3449</td>\n",
       "    </tr>\n",
       "    <tr>\n",
       "      <th>314</th>\n",
       "      <td>data</td>\n",
       "      <td>2007</td>\n",
       "      <td>168338</td>\n",
       "      <td>78986</td>\n",
       "      <td>3246</td>\n",
       "    </tr>\n",
       "    <tr>\n",
       "      <th>315</th>\n",
       "      <td>data</td>\n",
       "      <td>2008</td>\n",
       "      <td>105331</td>\n",
       "      <td>47811</td>\n",
       "      <td>2358</td>\n",
       "    </tr>\n",
       "  </tbody>\n",
       "</table>\n",
       "<p>316 rows × 5 columns</p>\n",
       "</div>"
      ],
      "text/plain": [
       "    token  year  frequency  pages  books\n",
       "0    data  1584         16     14      1\n",
       "1    data  1614          3      2      1\n",
       "2    data  1627          1      1      1\n",
       "3    data  1631         22     18      1\n",
       "4    data  1637          1      1      1\n",
       "..    ...   ...        ...    ...    ...\n",
       "311  data  2004     201841  93539   3483\n",
       "312  data  2005     197467  88901   3392\n",
       "313  data  2006     203669  92960   3449\n",
       "314  data  2007     168338  78986   3246\n",
       "315  data  2008     105331  47811   2358\n",
       "\n",
       "[316 rows x 5 columns]"
      ]
     },
     "execution_count": 5,
     "metadata": {},
     "output_type": "execute_result"
    }
   ],
   "source": [
    "# Read the csv into a dataframe\n",
    "\n",
    "df = pd.read_csv(s3_object['Body'] , header = 1) # pass the 'StreamingBody' \n",
    "\n",
    "df # Display"
   ]
  },
  {
   "cell_type": "code",
   "execution_count": 8,
   "id": "a1ddbcf7-ce33-46e0-82b0-9fb0e688e91e",
   "metadata": {},
   "outputs": [
    {
     "data": {
      "text/html": [
       "<div>\n",
       "<style scoped>\n",
       "    .dataframe tbody tr th:only-of-type {\n",
       "        vertical-align: middle;\n",
       "    }\n",
       "\n",
       "    .dataframe tbody tr th {\n",
       "        vertical-align: top;\n",
       "    }\n",
       "\n",
       "    .dataframe thead th {\n",
       "        text-align: right;\n",
       "    }\n",
       "</style>\n",
       "<table border=\"1\" class=\"dataframe\">\n",
       "  <thead>\n",
       "    <tr style=\"text-align: right;\">\n",
       "      <th></th>\n",
       "      <th>year</th>\n",
       "      <th>frequency</th>\n",
       "      <th>pages</th>\n",
       "      <th>books</th>\n",
       "    </tr>\n",
       "  </thead>\n",
       "  <tbody>\n",
       "    <tr>\n",
       "      <th>count</th>\n",
       "      <td>316.000000</td>\n",
       "      <td>316.000000</td>\n",
       "      <td>316.000000</td>\n",
       "      <td>316.000000</td>\n",
       "    </tr>\n",
       "    <tr>\n",
       "      <th>mean</th>\n",
       "      <td>1847.569620</td>\n",
       "      <td>38555.993671</td>\n",
       "      <td>21711.041139</td>\n",
       "      <td>1493.110759</td>\n",
       "    </tr>\n",
       "    <tr>\n",
       "      <th>std</th>\n",
       "      <td>96.874382</td>\n",
       "      <td>69212.366418</td>\n",
       "      <td>34901.797740</td>\n",
       "      <td>1560.040802</td>\n",
       "    </tr>\n",
       "    <tr>\n",
       "      <th>min</th>\n",
       "      <td>1584.000000</td>\n",
       "      <td>1.000000</td>\n",
       "      <td>1.000000</td>\n",
       "      <td>1.000000</td>\n",
       "    </tr>\n",
       "    <tr>\n",
       "      <th>25%</th>\n",
       "      <td>1771.750000</td>\n",
       "      <td>20.750000</td>\n",
       "      <td>19.000000</td>\n",
       "      <td>11.750000</td>\n",
       "    </tr>\n",
       "    <tr>\n",
       "      <th>50%</th>\n",
       "      <td>1850.500000</td>\n",
       "      <td>3004.000000</td>\n",
       "      <td>2729.500000</td>\n",
       "      <td>868.000000</td>\n",
       "    </tr>\n",
       "    <tr>\n",
       "      <th>75%</th>\n",
       "      <td>1929.250000</td>\n",
       "      <td>41776.750000</td>\n",
       "      <td>30195.750000</td>\n",
       "      <td>2964.250000</td>\n",
       "    </tr>\n",
       "    <tr>\n",
       "      <th>max</th>\n",
       "      <td>2008.000000</td>\n",
       "      <td>254561.000000</td>\n",
       "      <td>122472.000000</td>\n",
       "      <td>4372.000000</td>\n",
       "    </tr>\n",
       "  </tbody>\n",
       "</table>\n",
       "</div>"
      ],
      "text/plain": [
       "              year      frequency          pages        books\n",
       "count   316.000000     316.000000     316.000000   316.000000\n",
       "mean   1847.569620   38555.993671   21711.041139  1493.110759\n",
       "std      96.874382   69212.366418   34901.797740  1560.040802\n",
       "min    1584.000000       1.000000       1.000000     1.000000\n",
       "25%    1771.750000      20.750000      19.000000    11.750000\n",
       "50%    1850.500000    3004.000000    2729.500000   868.000000\n",
       "75%    1929.250000   41776.750000   30195.750000  2964.250000\n",
       "max    2008.000000  254561.000000  122472.000000  4372.000000"
      ]
     },
     "execution_count": 8,
     "metadata": {},
     "output_type": "execute_result"
    }
   ],
   "source": [
    "# describe `year` and `frequency` columns\n",
    "\n",
    "df.describe()"
   ]
  },
  {
   "cell_type": "markdown",
   "id": "c013805d-621a-4319-9374-11644925c33f",
   "metadata": {},
   "source": [
    "The `DataFrame` consists of $316$ rows and $5$ columns which are the following:\n",
    "\n",
    "> `token`: keyword   \n",
    "> `year`  : year book was published  \n",
    "> `frequency`: frequency of the token seen in the books   \n",
    "> `pages`: the number of pages where the token was detected   \n",
    "> `books`: the number of books where the token was detected "
   ]
  },
  {
   "cell_type": "markdown",
   "id": "cfd6346c-feb9-48ed-88b9-a1e5e4d05bf9",
   "metadata": {},
   "source": [
    "### Data Wrangling <a class=\"anchor\" id=\"3\"></a>"
   ]
  },
  {
   "cell_type": "markdown",
   "id": "8e60a3d6-2cc1-4757-869c-ffbf41974d6f",
   "metadata": {},
   "source": [
    "Let's start off by checking some information about the `DataFrame`."
   ]
  },
  {
   "cell_type": "code",
   "execution_count": 6,
   "id": "60713a36-854e-4ab2-95f9-dc71aa4c12d1",
   "metadata": {},
   "outputs": [
    {
     "name": "stdout",
     "output_type": "stream",
     "text": [
      "<class 'pandas.core.frame.DataFrame'>\n",
      "RangeIndex: 316 entries, 0 to 315\n",
      "Data columns (total 5 columns):\n",
      " #   Column     Non-Null Count  Dtype \n",
      "---  ------     --------------  ----- \n",
      " 0   token      316 non-null    object\n",
      " 1   year       316 non-null    int64 \n",
      " 2   frequency  316 non-null    int64 \n",
      " 3   pages      316 non-null    int64 \n",
      " 4   books      316 non-null    int64 \n",
      "dtypes: int64(4), object(1)\n",
      "memory usage: 12.5+ KB\n"
     ]
    }
   ],
   "source": [
    "# dataframe info\n",
    "\n",
    "df.info()"
   ]
  },
  {
   "cell_type": "markdown",
   "id": "a8f3173c-389d-4b1e-bf63-2973baccb3ae",
   "metadata": {},
   "source": [
    "We see that four of our columns are of data type `int64` and one is an `object`. Before proceeding let's convert the `year` and `frequency` columns into `int32` so we can make the plot next."
   ]
  },
  {
   "cell_type": "code",
   "execution_count": 7,
   "id": "870459d6-13aa-4418-a66d-dbf766151e0c",
   "metadata": {},
   "outputs": [],
   "source": [
    "# convert to correct type\n",
    "\n",
    "df['year']= df['year'].astype('int32')\n",
    "df['frequency']= df['frequency'].astype('int32')"
   ]
  },
  {
   "cell_type": "markdown",
   "id": "694871b2-3c4e-4bb1-b853-682fa21bf217",
   "metadata": {},
   "source": [
    "### Plot <a class=\"anchor\" id=\"4\"></a>"
   ]
  },
  {
   "cell_type": "markdown",
   "id": "12341d18-93de-46d2-a194-298881c2bd31",
   "metadata": {},
   "source": [
    "Now we will plot the number of occurrences of the token (the frequency column) of data over the years using matplotlib:\n"
   ]
  },
  {
   "cell_type": "code",
   "execution_count": 9,
   "id": "b9711196-aae1-4ac9-87ad-eaf9b102933d",
   "metadata": {},
   "outputs": [
    {
     "data": {
      "image/png": "[encoded data removed]",
      "text/plain": [
       "<Figure size 1200x500 with 1 Axes>"
      ]
     },
     "metadata": {},
     "output_type": "display_data"
    }
   ],
   "source": [
    "# plot the number of occurrences of the token data over the years\n",
    "\n",
    "plt.figure(figsize=(12, 5)) # figure size\n",
    "plt.plot(df['year'], df['frequency'] ) # x-axis = years  y-axis = frequency\n",
    "plt.title(\"Number of Occurrences of the Token `data` over the Years\") # set title \n",
    "plt.show() # display"
   ]
  },
  {
   "cell_type": "markdown",
   "id": "d52524a5-c9aa-4db3-a2d7-b430dbe8294f",
   "metadata": {},
   "source": [
    "We can see that the heavy use of the word \"data\" in books started in the mid 1800s and continued to rise exponentially until peaking some time around 1990-2000s although presumably due to the lack of updated data."
   ]
  },
  {
   "cell_type": "markdown",
   "id": "f42ed464-919c-4784-aacd-43b1d1d8d994",
   "metadata": {},
   "source": [
    "<hr>"
   ]
  },
  {
   "cell_type": "markdown",
   "id": "0c9125b2-3e5b-4f6d-9507-116b6b580167",
   "metadata": {},
   "source": [
    "Refer to the report for the next steps."
   ]
  }
 ],
 "metadata": {
  "kernelspec": {
   "display_name": "Python 3 (ipykernel)",
   "language": "python",
   "name": "python3"
  },
  "language_info": {
   "codemirror_mode": {
    "name": "ipython",
    "version": 3
   },
   "file_extension": ".py",
   "mimetype": "text/x-python",
   "name": "python",
   "nbconvert_exporter": "python",
   "pygments_lexer": "ipython3",
   "version": "3.11.8"
  },
  "widgets": {
   "application/vnd.jupyter.widget-state+json": {
    "state": {},
    "version_major": 2,
    "version_minor": 0
   }
  }
 },
 "nbformat": 4,
 "nbformat_minor": 5
}
